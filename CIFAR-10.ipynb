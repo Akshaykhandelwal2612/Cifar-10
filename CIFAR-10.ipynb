{
 "cells": [
  {
   "cell_type": "code",
   "execution_count": 12,
   "metadata": {
    "scrolled": true
   },
   "outputs": [
    {
     "name": "stdout",
     "output_type": "stream",
     "text": [
      "Data has apparently already been downloaded and unpacked.\n",
      "Loading data: data/CIFAR-10/cifar-10-batches-py/batches.meta\n",
      "Loading data: data/CIFAR-10/cifar-10-batches-py/data_batch_1\n",
      "Loading data: data/CIFAR-10/cifar-10-batches-py/data_batch_2\n",
      "Loading data: data/CIFAR-10/cifar-10-batches-py/data_batch_3\n",
      "Loading data: data/CIFAR-10/cifar-10-batches-py/data_batch_4\n",
      "Loading data: data/CIFAR-10/cifar-10-batches-py/data_batch_5\n",
      "Loading data: data/CIFAR-10/cifar-10-batches-py/test_batch\n"
     ]
    }
   ],
   "source": [
    "import cifar10\n",
    "import matplotlib.pyplot as plt\n",
    "from sklearn.decomposition import PCA\n",
    "from sklearn.metrics import classification_report, confusion_matrix\n",
    "from sklearn import svm\n",
    "import numpy as np\n",
    "cifar10.data_path = \"data/CIFAR-10/\"\n",
    "\n",
    "cifar10.maybe_download_and_extract()\n",
    "\n",
    "class_names = cifar10.load_class_names()\n",
    "\n",
    "images_train, cls_train, labels_train = cifar10.load_training_data()\n",
    "images_test, cls_test, labels_test = cifar10.load_test_data()\n",
    "\n",
    "names=dict()\n",
    "for i in range(len(class_names)):\n",
    "    names[i]=class_names[i]\n",
    "    \n",
    "img=images_train.reshape(50000,32*32*3)\n",
    "img.shape\n",
    "img_test=images_test.reshape(10000,32*32*3)\n",
    "img_test.shape\n",
    "\n",
    "pca=PCA()\n",
    "pca.fit(img)\n",
    "pca.components_.shape\n",
    "\n",
    "k=0\n",
    "total=0\n",
    "while total<0.85:\n",
    "    total+=pca.explained_variance_ratio_[k]\n",
    "    k+=1\n",
    "k\n",
    "\n",
    "pca2=PCA(n_components=k,whiten=True) # works eqivalent to feature scaling in these k features\n",
    "transformed=pca2.fit_transform(img)\n",
    "transformed.shape\n",
    "train=transformed\n",
    "test=pca2.transform(img_test)\n",
    "test.shape\n",
    "\n",
    "c=svm.SVC()\n",
    "c.fit(transformed,cls_train)\n",
    "m_pred=c.predict(test)\n",
    "m=list()\n",
    "for i in m_pred:\n",
    "    m.append(names[i])\n",
    "\n"
   ]
  },
  {
   "cell_type": "code",
   "execution_count": 6,
   "metadata": {},
   "outputs": [],
   "source": [
    "import pandas as pd\n",
    "x=pd.DataFrame(m)\n",
    "x.to_csv('file3.csv', header=False, index=False)"
   ]
  },
  {
   "cell_type": "code",
   "execution_count": 13,
   "metadata": {},
   "outputs": [
    {
     "name": "stdout",
     "output_type": "stream",
     "text": [
      "              precision    recall  f1-score   support\n",
      "\n",
      "           0       0.62      0.63      0.63      1000\n",
      "           1       0.66      0.68      0.67      1000\n",
      "           2       0.42      0.39      0.40      1000\n",
      "           3       0.37      0.41      0.39      1000\n",
      "           4       0.49      0.45      0.47      1000\n",
      "           5       0.51      0.44      0.47      1000\n",
      "           6       0.54      0.62      0.58      1000\n",
      "           7       0.66      0.60      0.63      1000\n",
      "           8       0.66      0.66      0.66      1000\n",
      "           9       0.58      0.61      0.60      1000\n",
      "\n",
      "    accuracy                           0.55     10000\n",
      "   macro avg       0.55      0.55      0.55     10000\n",
      "weighted avg       0.55      0.55      0.55     10000\n",
      "\n"
     ]
    }
   ],
   "source": [
    "\n",
    "print(classification_report(cls_test,m_pred))"
   ]
  }
 ],
 "metadata": {
  "kernelspec": {
   "display_name": "Python 3",
   "language": "python",
   "name": "python3"
  },
  "language_info": {
   "codemirror_mode": {
    "name": "ipython",
    "version": 3
   },
   "file_extension": ".py",
   "mimetype": "text/x-python",
   "name": "python",
   "nbconvert_exporter": "python",
   "pygments_lexer": "ipython3",
   "version": "3.8.5"
  }
 },
 "nbformat": 4,
 "nbformat_minor": 4
}
